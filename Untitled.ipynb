{
 "cells": [
  {
   "cell_type": "markdown",
   "metadata": {},
   "source": [
    "### Torch 主要的两种模型序列化和加载恢复方法"
   ]
  },
  {
   "cell_type": "markdown",
   "metadata": {},
   "source": [
    "#### 1.1 方法 M1 - 推荐\n",
    "\n",
    "+ 只保存和加载恢复模型参数(model parameters):"
   ]
  },
  {
   "cell_type": "code",
   "execution_count": null,
   "metadata": {},
   "outputs": [],
   "source": [
    "import torch \n",
    "\n",
    "# 保存\n",
    "torch.save(the_model.state_dict(), PATH)\n",
    "\n",
    "# 恢复\n",
    "the_model = TheModelClass(*args, **kwargs)\n",
    "the_model.load_state_dict(torch.load(PATH))\n",
    "# 该方法需要自己另导入模型的网络结构信息."
   ]
  },
  {
   "cell_type": "markdown",
   "metadata": {},
   "source": [
    "#### 1.2 方法 M2\n",
    "\n",
    "+ 同时保存模型的参数和网络结构信息："
   ]
  },
  {
   "cell_type": "code",
   "execution_count": null,
   "metadata": {},
   "outputs": [],
   "source": [
    "import torch\n",
    "\n",
    "# 保存\n",
    "torch.save(the_model, PATH)\n",
    "\n",
    "# 恢复\n",
    "the_model = torch.load(PATH)\n",
    "# 该方法保存的数据绑定着特定的 classes 和所用的确切目录结构. ‘\n",
    "# 因此，再加载后经过许多重构后，可能会被打乱."
   ]
  },
  {
   "cell_type": "markdown",
   "metadata": {},
   "source": [
    "### 根据应用场景，选择模型保存和加载恢复方法.\n",
    "+ 场景 C1 - 模型保存自用于推断"
   ]
  },
  {
   "cell_type": "markdown",
   "metadata": {},
   "source": [
    "\n",
    "自己保存模型，自己恢复模型，然后，修改模型为 `evaluation` 模式.\n",
    "这是因为，默认情况时，网络模型训练时往往有 `BatchNorm` 和 `Dropout` 网络层."
   ]
  },
  {
   "cell_type": "code",
   "execution_count": null,
   "metadata": {},
   "outputs": [],
   "source": [
    "# 模型保存\n",
    "torch.save(model.state_dict(), filepath)\n",
    "\n",
    "# 模型恢复\n",
    "model.load_state_dict(torch.load(filepath))\n",
    "model.eval()"
   ]
  },
  {
   "cell_type": "markdown",
   "metadata": {},
   "source": [
    "+ 场景 C2 - 模型保存用于恢复训练\n",
    "模型训练时，保持其训练状态. 需要同时保存模型model，优化器状态`(optimizer state)`，`epochs`，`score` 等."
   ]
  },
  {
   "cell_type": "code",
   "execution_count": null,
   "metadata": {},
   "outputs": [],
   "source": [
    "# 模型保存\n",
    "state = {\n",
    "    'epoch': epoch,\n",
    "    'state_dict': model.state_dict(),\n",
    "    'optimizer': optimizer.state_dict(),\n",
    "    ...\n",
    "}\n",
    "torch.save(state, filepath)\n",
    "\n",
    "# 加载模型，恢复训练\n",
    "model.load_state_dict(state['state_dict'])\n",
    "optimizer.load_state_dict(state['optimizer'])\n",
    "# 由于是要继续训练，则不需要调用 model.eval()."
   ]
  },
  {
   "cell_type": "markdown",
   "metadata": {},
   "source": [
    "+ 场景 C3 - 模型保存用于分享他用\n",
    "TensorFlow 中，可以创建一个 `.pb` 文件，同时定义了网络结构和模型权重. 这种方式非常便利，尤其在使用 `Tensorflow serve`.\n",
    "\n",
    "类似地，Pytorch 中"
   ]
  },
  {
   "cell_type": "code",
   "execution_count": null,
   "metadata": {},
   "outputs": [],
   "source": [
    "# 模型保存\n",
    "torch.save(model, filepath)\n",
    "\n",
    "# 模型加载\n",
    "model = torch.load(filepath)"
   ]
  },
  {
   "cell_type": "markdown",
   "metadata": {},
   "source": [
    "这种方法仍不够稳定，因为 `Pytorch` 仍在版本更新变化中. 所以 不推荐."
   ]
  },
  {
   "cell_type": "code",
   "execution_count": null,
   "metadata": {},
   "outputs": [],
   "source": [
    "import torch\n",
    "\n",
    "state = {\n",
    "    'epoch': epoch,\n",
    "    'state_dict': model.state_dict(),\n",
    "    'optimizer': optimizer.state_dict(),\n",
    "    'best_score': best_score,\n",
    "    ...\n",
    "}\n",
    "\n",
    "torch.save(state, '/path/to/checkpoint.pth' )\n",
    "\n",
    "if resume:\n",
    "    if os.path.isfile(resume_file):\n",
    "        print(\"=> loading checkpoint '{}'\".format(resume_file))\n",
    "        checkpoint = torch.load(resume_file)\n",
    "        start_epoch = checkpoint['epoch']\n",
    "        best_score = checkpoint['best_score']\n",
    "        model.load_state_dict(checkpoint['state_dict'])"
   ]
  },
  {
   "cell_type": "markdown",
   "metadata": {},
   "source": [
    "模型网络层的参数可视化"
   ]
  },
  {
   "cell_type": "code",
   "execution_count": null,
   "metadata": {},
   "outputs": [],
   "source": [
    "import torch.nn as nn\n",
    "from collections import OrderedDict\n",
    "\n",
    "# 网络结构\n",
    "model = nn.Sequential(OrderedDict([\n",
    "('conv1', nn.Conv2d(1,32,5)),\n",
    "('relu1', nn.ReLU()),\n",
    "('conv2', nn.Conv2d(32,64,5)),\n",
    "('relu2', nn.ReLU())\n",
    "]))\n",
    "print(model)\n",
    "\n",
    "# 网络参数可视化\n",
    "params=model.state_dict()\n",
    "for k,v in params.items():\n",
    "    print(k) # 网络变量名\n",
    "    print(params['conv1.weight']) # conv1 层权重 weight\n",
    "    print(params['conv1.bias']) # conv1 层偏置 bias"
   ]
  }
 ],
 "metadata": {
  "kernelspec": {
   "display_name": "Python 3",
   "language": "python",
   "name": "python3"
  },
  "language_info": {
   "codemirror_mode": {
    "name": "ipython",
    "version": 3
   },
   "file_extension": ".py",
   "mimetype": "text/x-python",
   "name": "python",
   "nbconvert_exporter": "python",
   "pygments_lexer": "ipython3",
   "version": "3.6.7"
  }
 },
 "nbformat": 4,
 "nbformat_minor": 2
}
